{
 "cells": [
  {
   "cell_type": "markdown",
   "id": "13c2936a-c4f2-4d02-a5cd-deffe37206af",
   "metadata": {},
   "source": [
    "# My Jupyter Notebook on IBM Watson Studio"
   ]
  },
  {
   "cell_type": "markdown",
   "id": "e83df8f5-12d0-45d1-8a81-48a32def6fc1",
   "metadata": {},
   "source": [
    "__Heidi Heckathorn__ <br>\n",
    "Software Engineer - Senior"
   ]
  },
  {
   "cell_type": "markdown",
   "id": "799910bf-8ffb-46d6-8a4f-a675d16bcb8e",
   "metadata": {},
   "source": [
    "_I am interested in data science because it allows the discovery of new and interesting soluctions to every day problems_"
   ]
  },
  {
   "cell_type": "markdown",
   "id": "ebac5807-b102-4482-ad70-a72ff4332994",
   "metadata": {},
   "source": [
    "### The code below adds all of the numbers in the year 2023."
   ]
  },
  {
   "cell_type": "code",
   "execution_count": 10,
   "id": "09fb2c6e-2739-447f-bfa2-e5171311d6c8",
   "metadata": {},
   "outputs": [
    {
     "data": {
      "text/plain": [
       "7"
      ]
     },
     "execution_count": 10,
     "metadata": {},
     "output_type": "execute_result"
    }
   ],
   "source": [
    "2 + 0 + 2 + 3"
   ]
  },
  {
   "cell_type": "markdown",
   "id": "26840fe8-8d7c-45f7-bdfb-bf75ef58c52e",
   "metadata": {},
   "source": [
    "* list item 1\n",
    "* list item 2\n",
    "* list item 3\n",
    "\n",
    "***\n",
    "__[Google](http://google.com)__"
   ]
  },
  {
   "cell_type": "code",
   "execution_count": null,
   "id": "053cdf8f-c2c4-4a7a-a1ca-b89144aca8ea",
   "metadata": {},
   "outputs": [],
   "source": []
  }
 ],
 "metadata": {
  "kernelspec": {
   "display_name": "Python",
   "language": "python",
   "name": "conda-env-python-py"
  },
  "language_info": {
   "codemirror_mode": {
    "name": "ipython",
    "version": 3
   },
   "file_extension": ".py",
   "mimetype": "text/x-python",
   "name": "python",
   "nbconvert_exporter": "python",
   "pygments_lexer": "ipython3",
   "version": "3.7.12"
  }
 },
 "nbformat": 4,
 "nbformat_minor": 5
}
